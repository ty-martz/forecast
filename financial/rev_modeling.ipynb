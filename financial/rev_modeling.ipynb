{
 "cells": [
  {
   "cell_type": "code",
   "execution_count": 1,
   "metadata": {},
   "outputs": [],
   "source": [
    "import pandas as pd\n",
    "import matplotlib.pyplot as plt"
   ]
  },
  {
   "cell_type": "code",
   "execution_count": 4,
   "metadata": {},
   "outputs": [
    {
     "data": {
      "text/html": [
       "<div>\n",
       "<style scoped>\n",
       "    .dataframe tbody tr th:only-of-type {\n",
       "        vertical-align: middle;\n",
       "    }\n",
       "\n",
       "    .dataframe tbody tr th {\n",
       "        vertical-align: top;\n",
       "    }\n",
       "\n",
       "    .dataframe thead th {\n",
       "        text-align: right;\n",
       "    }\n",
       "</style>\n",
       "<table border=\"1\" class=\"dataframe\">\n",
       "  <thead>\n",
       "    <tr style=\"text-align: right;\">\n",
       "      <th></th>\n",
       "      <th>customer_id</th>\n",
       "      <th>product</th>\n",
       "      <th>signup_date_time</th>\n",
       "      <th>cancel_date_time</th>\n",
       "    </tr>\n",
       "  </thead>\n",
       "  <tbody>\n",
       "    <tr>\n",
       "      <th>0</th>\n",
       "      <td>C2448</td>\n",
       "      <td>prd_1</td>\n",
       "      <td>2017-01-01 10:35:09</td>\n",
       "      <td>NaN</td>\n",
       "    </tr>\n",
       "    <tr>\n",
       "      <th>1</th>\n",
       "      <td>C2449</td>\n",
       "      <td>prd_1</td>\n",
       "      <td>2017-01-01 11:39:29</td>\n",
       "      <td>2021-09-05 10:00:02</td>\n",
       "    </tr>\n",
       "    <tr>\n",
       "      <th>2</th>\n",
       "      <td>C2450</td>\n",
       "      <td>prd_1</td>\n",
       "      <td>2017-01-01 11:42:00</td>\n",
       "      <td>2019-01-13 16:24:55</td>\n",
       "    </tr>\n",
       "    <tr>\n",
       "      <th>3</th>\n",
       "      <td>C2451</td>\n",
       "      <td>prd_2</td>\n",
       "      <td>2017-01-01 13:32:08</td>\n",
       "      <td>NaN</td>\n",
       "    </tr>\n",
       "    <tr>\n",
       "      <th>4</th>\n",
       "      <td>C2452</td>\n",
       "      <td>prd_1</td>\n",
       "      <td>2017-01-01 13:57:30</td>\n",
       "      <td>2021-06-28 18:06:01</td>\n",
       "    </tr>\n",
       "  </tbody>\n",
       "</table>\n",
       "</div>"
      ],
      "text/plain": [
       "  customer_id product     signup_date_time     cancel_date_time\n",
       "0       C2448   prd_1  2017-01-01 10:35:09                  NaN\n",
       "1       C2449   prd_1  2017-01-01 11:39:29  2021-09-05 10:00:02\n",
       "2       C2450   prd_1  2017-01-01 11:42:00  2019-01-13 16:24:55\n",
       "3       C2451   prd_2  2017-01-01 13:32:08                  NaN\n",
       "4       C2452   prd_1  2017-01-01 13:57:30  2021-06-28 18:06:01"
      ]
     },
     "execution_count": 4,
     "metadata": {},
     "output_type": "execute_result"
    }
   ],
   "source": [
    "cust_prod = pd.read_csv('data/customer_product.csv')\n",
    "cust_prod = cust_prod.drop(['Unnamed: 0'], axis=1)\n",
    "cust_prod.head()"
   ]
  },
  {
   "cell_type": "code",
   "execution_count": 3,
   "metadata": {},
   "outputs": [
    {
     "data": {
      "text/html": [
       "<div>\n",
       "<style scoped>\n",
       "    .dataframe tbody tr th:only-of-type {\n",
       "        vertical-align: middle;\n",
       "    }\n",
       "\n",
       "    .dataframe tbody tr th {\n",
       "        vertical-align: top;\n",
       "    }\n",
       "\n",
       "    .dataframe thead th {\n",
       "        text-align: right;\n",
       "    }\n",
       "</style>\n",
       "<table border=\"1\" class=\"dataframe\">\n",
       "  <thead>\n",
       "    <tr style=\"text-align: right;\">\n",
       "      <th></th>\n",
       "      <th>product_id</th>\n",
       "      <th>name</th>\n",
       "      <th>price</th>\n",
       "      <th>billing_cycle</th>\n",
       "    </tr>\n",
       "  </thead>\n",
       "  <tbody>\n",
       "    <tr>\n",
       "      <th>0</th>\n",
       "      <td>prd_1</td>\n",
       "      <td>annual_subscription</td>\n",
       "      <td>1200</td>\n",
       "      <td>12</td>\n",
       "    </tr>\n",
       "    <tr>\n",
       "      <th>1</th>\n",
       "      <td>prd_2</td>\n",
       "      <td>monthly_subscription</td>\n",
       "      <td>125</td>\n",
       "      <td>1</td>\n",
       "    </tr>\n",
       "  </tbody>\n",
       "</table>\n",
       "</div>"
      ],
      "text/plain": [
       "  product_id                  name  price  billing_cycle\n",
       "0      prd_1   annual_subscription   1200             12\n",
       "1      prd_2  monthly_subscription    125              1"
      ]
     },
     "execution_count": 3,
     "metadata": {},
     "output_type": "execute_result"
    }
   ],
   "source": [
    "prod = pd.read_csv('data/product_info.csv')\n",
    "prod"
   ]
  },
  {
   "attachments": {},
   "cell_type": "markdown",
   "metadata": {},
   "source": [
    "## Merge and Preprocess Subscription Data\n",
    "\n",
    "- Extract Subscription Times\n",
    "- Add Revenue Amounts\n",
    "- Calculate Totals per year"
   ]
  },
  {
   "cell_type": "code",
   "execution_count": 6,
   "metadata": {},
   "outputs": [
    {
     "data": {
      "text/plain": [
       "'2021-12-31 19:38:21'"
      ]
     },
     "execution_count": 6,
     "metadata": {},
     "output_type": "execute_result"
    }
   ],
   "source": [
    "cust_prod['signup_date_time'].max()"
   ]
  },
  {
   "cell_type": "code",
   "execution_count": 11,
   "metadata": {},
   "outputs": [
    {
     "data": {
      "text/html": [
       "<div>\n",
       "<style scoped>\n",
       "    .dataframe tbody tr th:only-of-type {\n",
       "        vertical-align: middle;\n",
       "    }\n",
       "\n",
       "    .dataframe tbody tr th {\n",
       "        vertical-align: top;\n",
       "    }\n",
       "\n",
       "    .dataframe thead th {\n",
       "        text-align: right;\n",
       "    }\n",
       "</style>\n",
       "<table border=\"1\" class=\"dataframe\">\n",
       "  <thead>\n",
       "    <tr style=\"text-align: right;\">\n",
       "      <th></th>\n",
       "      <th>customer_id</th>\n",
       "      <th>product</th>\n",
       "      <th>signup_date_time</th>\n",
       "      <th>cancel_date_time</th>\n",
       "      <th>sub_len_months</th>\n",
       "      <th>sub_len_years</th>\n",
       "      <th>active_flag</th>\n",
       "      <th>total_rev</th>\n",
       "    </tr>\n",
       "  </thead>\n",
       "  <tbody>\n",
       "    <tr>\n",
       "      <th>0</th>\n",
       "      <td>C2448</td>\n",
       "      <td>prd_1</td>\n",
       "      <td>2017-01-01 10:35:09</td>\n",
       "      <td>2022-01-01 00:00:00</td>\n",
       "      <td>60.851964</td>\n",
       "      <td>5.070997</td>\n",
       "      <td>1</td>\n",
       "      <td>6085.196412</td>\n",
       "    </tr>\n",
       "    <tr>\n",
       "      <th>1</th>\n",
       "      <td>C2449</td>\n",
       "      <td>prd_1</td>\n",
       "      <td>2017-01-01 11:39:29</td>\n",
       "      <td>2021-09-05 10:00:02</td>\n",
       "      <td>56.931031</td>\n",
       "      <td>4.744253</td>\n",
       "      <td>0</td>\n",
       "      <td>5693.103125</td>\n",
       "    </tr>\n",
       "    <tr>\n",
       "      <th>2</th>\n",
       "      <td>C2450</td>\n",
       "      <td>prd_1</td>\n",
       "      <td>2017-01-01 11:42:00</td>\n",
       "      <td>2019-01-13 16:24:55</td>\n",
       "      <td>24.739882</td>\n",
       "      <td>2.061657</td>\n",
       "      <td>0</td>\n",
       "      <td>2473.988233</td>\n",
       "    </tr>\n",
       "    <tr>\n",
       "      <th>3</th>\n",
       "      <td>C2451</td>\n",
       "      <td>prd_2</td>\n",
       "      <td>2017-01-01 13:32:08</td>\n",
       "      <td>2022-01-01 00:00:00</td>\n",
       "      <td>60.847867</td>\n",
       "      <td>5.070656</td>\n",
       "      <td>1</td>\n",
       "      <td>7605.983410</td>\n",
       "    </tr>\n",
       "    <tr>\n",
       "      <th>4</th>\n",
       "      <td>C2452</td>\n",
       "      <td>prd_1</td>\n",
       "      <td>2017-01-01 13:57:30</td>\n",
       "      <td>2021-06-28 18:06:01</td>\n",
       "      <td>54.639086</td>\n",
       "      <td>4.553257</td>\n",
       "      <td>0</td>\n",
       "      <td>5463.908603</td>\n",
       "    </tr>\n",
       "  </tbody>\n",
       "</table>\n",
       "</div>"
      ],
      "text/plain": [
       "  customer_id product    signup_date_time    cancel_date_time  sub_len_months  \\\n",
       "0       C2448   prd_1 2017-01-01 10:35:09 2022-01-01 00:00:00       60.851964   \n",
       "1       C2449   prd_1 2017-01-01 11:39:29 2021-09-05 10:00:02       56.931031   \n",
       "2       C2450   prd_1 2017-01-01 11:42:00 2019-01-13 16:24:55       24.739882   \n",
       "3       C2451   prd_2 2017-01-01 13:32:08 2022-01-01 00:00:00       60.847867   \n",
       "4       C2452   prd_1 2017-01-01 13:57:30 2021-06-28 18:06:01       54.639086   \n",
       "\n",
       "   sub_len_years  active_flag    total_rev  \n",
       "0       5.070997            1  6085.196412  \n",
       "1       4.744253            0  5693.103125  \n",
       "2       2.061657            0  2473.988233  \n",
       "3       5.070656            1  7605.983410  \n",
       "4       4.553257            0  5463.908603  "
      ]
     },
     "execution_count": 11,
     "metadata": {},
     "output_type": "execute_result"
    }
   ],
   "source": [
    "subs = cust_prod.copy()\n",
    "dummy_date = pd.Timestamp('2022-01-01 00:00:00')\n",
    "\n",
    "# Convert sign-up and cancel dates to datetime format\n",
    "subs['signup_date_time'] = pd.to_datetime(subs['signup_date_time'])\n",
    "subs['cancel_date_time'] = pd.to_datetime(subs['cancel_date_time']).fillna(dummy_date)\n",
    "\n",
    "# Create a new column to calculate subscription length in months\n",
    "subs['sub_len_months'] = ((subs['cancel_date_time'] - subs['signup_date_time']) / pd.Timedelta(days=30))\n",
    "subs['sub_len_years'] = subs['sub_len_months'] / 12\n",
    "\n",
    "# TODO: update below additions to use numpy for speed\n",
    "subs['active_flag'] = [1 if x==dummy_date else 0 for x in subs['cancel_date_time']]\n",
    "\n",
    "subs['total_rev'] = [subs.iloc[x]['sub_len_months']*125 if subs.iloc[x]['product']=='prd_2' else subs.iloc[x]['sub_len_years']*1200 for x in range(len(subs))]\n",
    "\n",
    "subs.head()"
   ]
  },
  {
   "cell_type": "code",
   "execution_count": 10,
   "metadata": {},
   "outputs": [
    {
     "data": {
      "text/plain": [
       "array([0], dtype=int64)"
      ]
     },
     "execution_count": 10,
     "metadata": {},
     "output_type": "execute_result"
    }
   ],
   "source": [
    "subs.active_flag.unique()"
   ]
  },
  {
   "cell_type": "code",
   "execution_count": null,
   "metadata": {},
   "outputs": [],
   "source": []
  }
 ],
 "metadata": {
  "kernelspec": {
   "display_name": "env",
   "language": "python",
   "name": "python3"
  },
  "language_info": {
   "codemirror_mode": {
    "name": "ipython",
    "version": 3
   },
   "file_extension": ".py",
   "mimetype": "text/x-python",
   "name": "python",
   "nbconvert_exporter": "python",
   "pygments_lexer": "ipython3",
   "version": "3.8.2"
  },
  "orig_nbformat": 4
 },
 "nbformat": 4,
 "nbformat_minor": 2
}
