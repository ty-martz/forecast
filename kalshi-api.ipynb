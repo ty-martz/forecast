{
 "cells": [
  {
   "cell_type": "code",
   "execution_count": 1,
   "metadata": {},
   "outputs": [
    {
     "name": "stdout",
     "output_type": "stream",
     "text": [
      "{\"events\":[{\"event_ticker\":\"JOBLESS-21AUG28\",\"series_ticker\":\"JOBLESS\",\"sub_title\":\"From Aug 22-28, 2021\",\"title\":\"Will initial jobless claims be higher than 350,000 for the week ending August 28, 2021?\",\"mutually_exclusive\":false,\"category\":\"Economics\"},{\"event_ticker\":\"MOON-25\",\"series_ticker\":\"MOON\",\"sub_title\":\"By Dec 31, 2024\",\"title\":\"Will NASA land a **person on the Moon** before 2025?\",\"mutually_exclusive\":false,\"category\":\"Science \\u0026 Technology\",\"strike_date\":\"2025-01-01T12:00:00Z\"}],\"cursor\":\"CgYI8LDVuwYSB01PT04tMjU\"}\n"
     ]
    }
   ],
   "source": [
    "import requests\n",
    "\n",
    "url = \"https://trading-api.kalshi.com/trade-api/v2/events?limit=2\"\n",
    "\n",
    "headers = {\"accept\": \"application/json\"}\n",
    "\n",
    "response = requests.get(url, headers=headers)\n",
    "\n",
    "print(response.text)"
   ]
  },
  {
   "cell_type": "code",
   "execution_count": 4,
   "metadata": {},
   "outputs": [
    {
     "name": "stdout",
     "output_type": "stream",
     "text": [
      "{\"series\":{\"ticker\":\"HIGHNY\",\"frequency\":\"daily\",\"title\":\"NYC high temp\"}}\n"
     ]
    }
   ],
   "source": [
    "url = \"https://trading-api.kalshi.com/trade-api/v2/series/HIGHNY\"\n",
    "\n",
    "headers = {\"accept\": \"application/json\"}\n",
    "\n",
    "response = requests.get(url, headers=headers)\n",
    "\n",
    "print(response.text)"
   ]
  },
  {
   "cell_type": "code",
   "execution_count": 41,
   "metadata": {},
   "outputs": [
    {
     "name": "stdout",
     "output_type": "stream",
     "text": [
      "dict_keys(['ticker', 'event_ticker', 'title', 'subtitle', 'open_time', 'close_time', 'expiration_time', 'status', 'yes_bid', 'yes_ask', 'no_bid', 'no_ask', 'last_price', 'previous_yes_bid', 'previous_yes_ask', 'previous_price', 'volume', 'volume_24h', 'liquidity', 'open_interest', 'result', 'can_close_early', 'expiration_value', 'category', 'risk_limit_cents', 'strike_type', 'floor_strike', 'cap_strike'])\n",
      "Will the Nasdaq-100 be between 12700 and 12799.99 at the end of Mar 28, 2023?\n",
      "4044\n",
      "8\n",
      "9\n",
      "10\n"
     ]
    }
   ],
   "source": [
    "url = \"https://trading-api.kalshi.com/trade-api/v2/markets/NASDAQ100D-23MAR28-B12750\"\n",
    "\n",
    "headers = {\"accept\": \"application/json\"}\n",
    "\n",
    "response = requests.get(url, headers=headers)\n",
    "\n",
    "print(response.json()['market'].keys())\n",
    "print(response.json()['market']['title'])\n",
    "print(response.json()['market']['volume_24h'])\n",
    "print(response.json()['market']['last_price'])\n",
    "print(response.json()['market']['yes_bid'])\n",
    "print(response.json()['market']['yes_ask'])"
   ]
  },
  {
   "cell_type": "code",
   "execution_count": null,
   "metadata": {},
   "outputs": [],
   "source": []
  }
 ],
 "metadata": {
  "kernelspec": {
   "display_name": "env",
   "language": "python",
   "name": "python3"
  },
  "language_info": {
   "codemirror_mode": {
    "name": "ipython",
    "version": 3
   },
   "file_extension": ".py",
   "mimetype": "text/x-python",
   "name": "python",
   "nbconvert_exporter": "python",
   "pygments_lexer": "ipython3",
   "version": "3.8.2rc2"
  },
  "orig_nbformat": 4
 },
 "nbformat": 4,
 "nbformat_minor": 2
}
